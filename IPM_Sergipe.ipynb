{
  "nbformat": 4,
  "nbformat_minor": 0,
  "metadata": {
    "colab": {
      "provenance": [],
      "collapsed_sections": [
        "f3Q1NpLPnJ7a",
        "4BAue6vMfDHa",
        "ad_EfUtj4FUs",
        "I9BWfs_ru8kv",
        "c1AjU07Mu7Cv",
        "fFM5T0cMkaja",
        "mL5P_k328e_3",
        "nABzsGXY8ibM"
      ],
      "authorship_tag": "ABX9TyNBEm80P8LzWWYQzuEGXUD0",
      "include_colab_link": true
    },
    "kernelspec": {
      "name": "python3",
      "display_name": "Python 3"
    },
    "language_info": {
      "name": "python"
    }
  },
  "cells": [
    {
      "cell_type": "markdown",
      "metadata": {
        "id": "view-in-github",
        "colab_type": "text"
      },
      "source": [
        "<a href=\"https://colab.research.google.com/github/vitorcosta26/IPM-Sergipe/blob/main/IPM_Sergipe.ipynb\" target=\"_parent\"><img src=\"https://colab.research.google.com/assets/colab-badge.svg\" alt=\"Open In Colab\"/></a>"
      ]
    },
    {
      "cell_type": "markdown",
      "source": [
        "# config"
      ],
      "metadata": {
        "id": "f3Q1NpLPnJ7a"
      }
    },
    {
      "cell_type": "code",
      "source": [
        "# Configuração do drive com a base de dados\n",
        "from google.colab import drive\n",
        "drive.mount('/content/drive')"
      ],
      "metadata": {
        "id": "gTJ7YFlRgLlb",
        "colab": {
          "base_uri": "https://localhost:8080/"
        },
        "outputId": "8cce0d96-9368-4d34-a2b6-bc4384178373"
      },
      "execution_count": 1,
      "outputs": [
        {
          "output_type": "stream",
          "name": "stdout",
          "text": [
            "Mounted at /content/drive\n"
          ]
        }
      ]
    },
    {
      "cell_type": "code",
      "source": [
        "!pip install xlsxwriter"
      ],
      "metadata": {
        "colab": {
          "base_uri": "https://localhost:8080/"
        },
        "id": "LCVoohOqw23i",
        "outputId": "f4d831fd-a977-4b59-a164-31bebbe67d0f"
      },
      "execution_count": 2,
      "outputs": [
        {
          "output_type": "stream",
          "name": "stdout",
          "text": [
            "Looking in indexes: https://pypi.org/simple, https://us-python.pkg.dev/colab-wheels/public/simple/\n",
            "Collecting xlsxwriter\n",
            "  Downloading XlsxWriter-3.1.2-py3-none-any.whl (153 kB)\n",
            "\u001b[2K     \u001b[90m━━━━━━━━━━━━━━━━━━━━━━━━━━━━━━━━━━━━━━━\u001b[0m \u001b[32m153.0/153.0 kB\u001b[0m \u001b[31m6.0 MB/s\u001b[0m eta \u001b[36m0:00:00\u001b[0m\n",
            "\u001b[?25hInstalling collected packages: xlsxwriter\n",
            "Successfully installed xlsxwriter-3.1.2\n"
          ]
        }
      ]
    },
    {
      "cell_type": "code",
      "source": [
        "import xlsxwriter\n",
        "import pandas as pd"
      ],
      "metadata": {
        "id": "6CJy3qMVkNbq"
      },
      "execution_count": 3,
      "outputs": []
    },
    {
      "cell_type": "code",
      "source": [
        "divisao_territorial_brasileira = pd.read_excel('/content/drive/MyDrive/2023/01/Material Produzido - TCC 2023.1/PauloVitor/Dados/tcc_dataset/DTB_2022/RELATORIO_DTB_BRASIL_MUNICIPIO.xlsx', skiprows=6)"
      ],
      "metadata": {
        "id": "2vVEjpEAcoKl"
      },
      "execution_count": 4,
      "outputs": []
    },
    {
      "cell_type": "markdown",
      "source": [
        "# Índices fuzzy de pobreza multidimensional"
      ],
      "metadata": {
        "id": "4BAue6vMfDHa"
      }
    },
    {
      "cell_type": "markdown",
      "source": [
        "## fórmulas"
      ],
      "metadata": {
        "id": "ad_EfUtj4FUs"
      }
    },
    {
      "cell_type": "code",
      "source": [
        "def extrair_valores_minimos_maximos(df):\n",
        "    valores_minimos_maximos = {}\n",
        "    for coluna in df.iloc[:, 1:].columns:\n",
        "        valores_minimos_maximos[coluna] = (df[coluna].max(), df[coluna].min())\n",
        "\n",
        "    return valores_minimos_maximos\n",
        "\n",
        "def calcular_xij(df, valores_minimos_maximos, colunas_positivas, colunas_negativas):\n",
        "    resultado = df.copy()\n",
        "\n",
        "    for i in range(df.shape[0]):\n",
        "        for j, coluna in enumerate(df.columns[1:], start=1):\n",
        "            maximo, minimo = valores_minimos_maximos[coluna]\n",
        "\n",
        "            if coluna in colunas_negativas:\n",
        "                x_ij = (maximo - df.iloc[i, j]) / (maximo - minimo)\n",
        "            else:\n",
        "                x_ij = (df.iloc[i, j] - minimo) / (maximo - minimo)\n",
        "\n",
        "            resultado.iloc[i, j] = x_ij\n",
        "\n",
        "    return resultado\n",
        "\n",
        "def calcular_peso(df, j):\n",
        "    n = len(df)\n",
        "    soma_xj = df.iloc[:, j].sum()\n",
        "    denominador = n - soma_xj\n",
        "    if denominador == 0:\n",
        "        return 0\n",
        "    else:\n",
        "        return math.log(n / denominador)\n",
        "\n",
        "def calcular_indice_fuzzy(df, positivas, negativas):\n",
        "    resultado = df.copy()\n",
        "\n",
        "    valores_minimos_maximos = extrair_valores_minimos_maximos(df)\n",
        "    df_xij = calcular_xij(df, valores_minimos_maximos, positivas, negativas)\n",
        "\n",
        "    pesos = [calcular_peso(df_xij, j) for j in range(1, df_xij.shape[1])]\n",
        "\n",
        "    numeradores = (df_xij.iloc[:, 1:] * pesos).sum(axis=1)\n",
        "\n",
        "    denominador = sum(pesos)\n",
        "\n",
        "    indices_fuzzy = numeradores / denominador\n",
        "\n",
        "    resultado['indice_fuzzy'] = indices_fuzzy\n",
        "\n",
        "    return resultado[['nome_municipio', 'indice_fuzzy']]"
      ],
      "metadata": {
        "id": "bbHBD5nmu8ky"
      },
      "execution_count": 5,
      "outputs": []
    },
    {
      "cell_type": "markdown",
      "source": [
        "## 2000"
      ],
      "metadata": {
        "id": "I9BWfs_ru8kv"
      }
    },
    {
      "cell_type": "code",
      "source": [
        "import math\n",
        "import pandas as pd\n",
        "microdados_domicilio_2000 = pd.read_csv('/content/drive/MyDrive/2023/01/Material Produzido - TCC 2023.1/PauloVitor/Dados/tcc_dataset/Censo Demográfico/2000/microdados_domicilio_2000.csv')\n",
        "microdados_pessoa_2000 = pd.read_csv('/content/drive/MyDrive/2023/01/Material Produzido - TCC 2023.1/PauloVitor/Dados/tcc_dataset/Censo Demográfico/2000/microdados_pessoa_2000.csv')"
      ],
      "metadata": {
        "id": "bicwgdjUu8kw"
      },
      "execution_count": 6,
      "outputs": []
    },
    {
      "cell_type": "code",
      "source": [
        "populacao_por_municipio_2000 = microdados_pessoa_2000['id_municipio'].value_counts()\n",
        "populacao_por_municipio_2000_df = populacao_por_municipio_2000.to_frame().reset_index()\n",
        "populacao_por_municipio_2000_df.columns = ['id_municipio', 'populacao']"
      ],
      "metadata": {
        "id": "O2X7ZgO3WnT1"
      },
      "execution_count": 7,
      "outputs": []
    },
    {
      "cell_type": "code",
      "source": [
        "# Crie uma lista vazia para armazenar as informações dos municípios\n",
        "municipios_pes_2000 = []\n",
        "\n",
        "# Agrupar os dados por município\n",
        "grupo_pes_2000 = microdados_pessoa_2000.groupby('id_municipio')\n",
        "\n",
        "# Loop pelos grupos\n",
        "for cod_mun, df in grupo_pes_2000:\n",
        "    populacao_municipio = populacao_por_municipio_2000_df[populacao_por_municipio_2000_df['id_municipio'] == cod_mun]['populacao'].values[0]\n",
        "    #print(f'{cod_mun} - {populacao_municipio}')\n",
        "    taxa_alfabetizacao_5_mais = len(df[(df['v4752'] >= 5) & (df['v0428'] == 1)]) / populacao_municipio\n",
        "    percentual_5_14_nao_alfabetizadas = len(df[((df['v4752'] >= 5) & (df['v4752'] <= 14)) & (df['v0428'] == 2)]) / populacao_municipio\n",
        "    percentual_15_mais_nao_alfabetizadas = len(df[(df['v4752'] >= 15) & (df['v0428'] == 2)]) / populacao_municipio\n",
        "    percentual_domicilio_responsável_nao_alfabetizado = len(df[(df['v0402'] == 1) & (df['v0428'] == 2)]) / populacao_municipio\n",
        "    percentual_10_mais_sem_instrucao_fundamental_incompleto = len(df[(df['v4752'] >= 10) & (df['v4355'] == 1)]) / populacao_municipio\n",
        "    percentual_10_mais_fundamental_completo_medio_incompleto = len(df[(df['v4752'] >= 10) & (df['v4355'] == 2)]) / populacao_municipio\n",
        "    percentual_10_mais_medio_completo_superior_incompleto = len(df[(df['v4752'] >= 10) & (df['v0432'] == 7)]) / populacao_municipio\n",
        "    percentual_10_17_com_filhos = len(df[(df['v4752'] >= 10) & (df['v4752'] <= 17) & (df['v4690'] >= 1)]) / populacao_municipio\n",
        "\n",
        "    # Adiciona as informações do município à lista\n",
        "    municipios_pes_2000.append({\n",
        "        'id_municipio': cod_mun,\n",
        "        'Taxa de alfabetização de pessoas de 5 anos ou mais 2000': taxa_alfabetizacao_5_mais,\n",
        "        'Percentual de pessoas de 5 a 14 anos não alfabetizadas 2000': percentual_5_14_nao_alfabetizadas,\n",
        "        'Percentual de pessoas de 15 anos ou mais não alfabetizadas 2000': percentual_15_mais_nao_alfabetizadas,\n",
        "        'Percentual de domicílios em que a pessoa responsável não é alfabetizada 2000': percentual_domicilio_responsável_nao_alfabetizado,\n",
        "        'Percentual de pessoas de 10 anos ou mais segundo o nível de instrução: sem instrução e ensino fundamental incompleto 2000': percentual_10_mais_sem_instrucao_fundamental_incompleto,\n",
        "        'Percentual de pessoas de 10 anos ou mais segundo o nível de instrução: fundamental completo e ensino médio incompleto 2000': percentual_10_mais_fundamental_completo_medio_incompleto,\n",
        "        'Percentual de pessoas de 10 anos ou mais segundo o nível de instrução: ensino médio completo e superior incompleto 2000': percentual_10_mais_medio_completo_superior_incompleto,\n",
        "        'Percentual de crianças e adolescentes, de 10 a 17 anos, com filhos 2000': percentual_10_17_com_filhos,\n",
        "    })\n",
        "\n",
        "# Crie um novo DataFrame a partir da lista de informações dos municípios\n",
        "df_municipios_pes_2000 = pd.DataFrame(municipios_pes_2000)\n",
        "\n",
        "# Crie uma lista vazia para armazenar as informações dos municípios\n",
        "municipios_dom_2000 = []\n",
        "\n",
        "# Agrupar os dados por município\n",
        "grupo_dom_2000 = microdados_domicilio_2000.groupby('id_municipio')\n",
        "\n",
        "# Loop pelos grupos\n",
        "for cod_mun, df in grupo_dom_2000:\n",
        "    populacao_municipio = populacao_por_municipio_2000_df[populacao_por_municipio_2000_df['id_municipio'] == cod_mun]['populacao'].values[0]\n",
        "    #print(f'{cod_mun} - {populacao_municipio}')\n",
        "    percentual_energia_eletrica = len(df[df['v0213'] != 3]) / populacao_municipio\n",
        "    percentual_rede_agua = len(df[df['v0207'] != 3]) / populacao_municipio\n",
        "    percentual_coleta_lixo = len(df[df['v0212'].isin([1, 2])]) / populacao_municipio\n",
        "    percentual_banheiro = len(df[df['v0209'] >= 1]) / populacao_municipio\n",
        "    percentual_densidade_por_dormitorio_acima_2_moradores = len(df[df['v7203'] > 2]) / populacao_municipio\n",
        "    percentual_geladeira = len(df[df['v0215'] == 1]) / populacao_municipio\n",
        "    percentual_esgotamento_sanitario = len(df[(df.v0208 == 1) | (df.v0208 == 2)]) / populacao_municipio\n",
        "    valor_medio_mensal_domicilios = df['v7616'].mean()\n",
        "    percentual_domicilios_rendimento_ate_meio_salario_minimo = (len(df[df['v7617'] <= 0.5]) / populacao_municipio) * 100\n",
        "\n",
        "    # Adiciona as informações do município à lista\n",
        "    municipios_dom_2000.append({\n",
        "        'id_municipio': cod_mun,\n",
        "        'Percentual de domicílios com acesso a energia elétrica 2000': percentual_energia_eletrica,\n",
        "        'Percentual de domicílios com acesso a rede de água 2000': percentual_rede_agua,\n",
        "        'Percentual de domicílios com acesso a coleta de lixo 2000': percentual_coleta_lixo,\n",
        "        'Percentual de domicílios com banheiro 2000': percentual_banheiro,\n",
        "        'Percentual de domicílios com densidade de moradores por dormitório acima de dois moradores 2000': percentual_densidade_por_dormitorio_acima_2_moradores,\n",
        "        'Percentual de domicílios com acesso ao bem durável geladeira 2000': percentual_geladeira,\n",
        "        'Percentual de domicílios com acesso aos tipos de esgotamento sanitário: rede geral de esgoto ou pluvial ou fossa séptica 2000': percentual_esgotamento_sanitario,\n",
        "        'Valor do rendimento nominal médio mensal dos domicílios 2000': valor_medio_mensal_domicilios,\n",
        "        'Percentual de domicílios com rendimento de até meio salário mínimo 2000': percentual_domicilios_rendimento_ate_meio_salario_minimo\n",
        "    })\n",
        "\n",
        "# Crie um novo DataFrame a partir da lista de informações dos municípios\n",
        "df_municipios_dom_2000 = pd.DataFrame(municipios_dom_2000)"
      ],
      "metadata": {
        "id": "RjLAjNnKu8kw"
      },
      "execution_count": 8,
      "outputs": []
    },
    {
      "cell_type": "code",
      "source": [
        "df_municipios_2000 = pd.merge(df_municipios_pes_2000, df_municipios_dom_2000, left_on='id_municipio', right_on='id_municipio')"
      ],
      "metadata": {
        "id": "S0c5O47_u8kw"
      },
      "execution_count": 9,
      "outputs": []
    },
    {
      "cell_type": "code",
      "source": [
        "df_municipios_2000 = pd.merge(df_municipios_2000, divisao_territorial_brasileira[['Código Município Completo', 'Nome_Município']], left_on='id_municipio', right_on='Código Município Completo')\n",
        "df_municipios_2000.drop(columns=['id_municipio', 'Código Município Completo'], inplace=True)\n",
        "df_municipios_2000.rename(columns={'Nome_Município': 'nome_municipio'}, inplace=True)\n",
        "# Obter a lista de todas as colunas\n",
        "colunas = df_municipios_2000.columns.tolist()\n",
        "# Reordenar as colunas movendo \"nome_municipio\" para a primeira posição\n",
        "colunas = ['nome_municipio'] + [coluna for coluna in colunas if coluna != 'nome_municipio']\n",
        "# Reatribuir as colunas ao DataFrame\n",
        "df_municipios_2000 = df_municipios_2000[colunas]"
      ],
      "metadata": {
        "id": "GtJ8E9nPmqkO"
      },
      "execution_count": 10,
      "outputs": []
    },
    {
      "cell_type": "code",
      "source": [
        "df_municipios_2000.info()"
      ],
      "metadata": {
        "colab": {
          "base_uri": "https://localhost:8080/"
        },
        "id": "x7tC5Z-S1i1g",
        "outputId": "950ade8a-827c-46b7-f9a4-a70a54f3bc46"
      },
      "execution_count": 11,
      "outputs": [
        {
          "output_type": "stream",
          "name": "stdout",
          "text": [
            "<class 'pandas.core.frame.DataFrame'>\n",
            "Int64Index: 75 entries, 0 to 74\n",
            "Data columns (total 18 columns):\n",
            " #   Column                                                                                                                         Non-Null Count  Dtype  \n",
            "---  ------                                                                                                                         --------------  -----  \n",
            " 0   nome_municipio                                                                                                                 75 non-null     object \n",
            " 1   Taxa de alfabetização de pessoas de 5 anos ou mais 2000                                                                        75 non-null     float64\n",
            " 2   Percentual de pessoas de 5 a 14 anos não alfabetizadas 2000                                                                    75 non-null     float64\n",
            " 3   Percentual de pessoas de 15 anos ou mais não alfabetizadas 2000                                                                75 non-null     float64\n",
            " 4   Percentual de domicílios em que a pessoa responsável não é alfabetizada 2000                                                   75 non-null     float64\n",
            " 5   Percentual de pessoas de 10 anos ou mais segundo o nível de instrução: sem instrução e ensino fundamental incompleto 2000      75 non-null     float64\n",
            " 6   Percentual de pessoas de 10 anos ou mais segundo o nível de instrução: fundamental completo e ensino médio incompleto 2000     75 non-null     float64\n",
            " 7   Percentual de pessoas de 10 anos ou mais segundo o nível de instrução: ensino médio completo e superior incompleto 2000        75 non-null     float64\n",
            " 8   Percentual de crianças e adolescentes, de 10 a 17 anos, com filhos 2000                                                        75 non-null     float64\n",
            " 9   Percentual de domicílios com acesso a energia elétrica 2000                                                                    75 non-null     float64\n",
            " 10  Percentual de domicílios com acesso a rede de água 2000                                                                        75 non-null     float64\n",
            " 11  Percentual de domicílios com acesso a coleta de lixo 2000                                                                      75 non-null     float64\n",
            " 12  Percentual de domicílios com banheiro 2000                                                                                     75 non-null     float64\n",
            " 13  Percentual de domicílios com densidade de moradores por dormitório acima de dois moradores 2000                                75 non-null     float64\n",
            " 14  Percentual de domicílios com acesso ao bem durável geladeira 2000                                                              75 non-null     float64\n",
            " 15  Percentual de domicílios com acesso aos tipos de esgotamento sanitário: rede geral de esgoto ou pluvial ou fossa séptica 2000  75 non-null     float64\n",
            " 16  Valor do rendimento nominal médio mensal dos domicílios 2000                                                                   75 non-null     float64\n",
            " 17  Percentual de domicílios com rendimento de até meio salário mínimo 2000                                                        75 non-null     float64\n",
            "dtypes: float64(17), object(1)\n",
            "memory usage: 11.1+ KB\n"
          ]
        }
      ]
    },
    {
      "cell_type": "markdown",
      "source": [
        "## 2010"
      ],
      "metadata": {
        "id": "c1AjU07Mu7Cv"
      }
    },
    {
      "cell_type": "code",
      "source": [
        "import math\n",
        "import pandas as pd\n",
        "microdados_domicilio_2010 = pd.read_csv('/content/drive/MyDrive/2023/01/Material Produzido - TCC 2023.1/PauloVitor/Dados/tcc_dataset/Censo Demográfico/2010/microdados_domicilio_2010.csv')\n",
        "microdados_pessoa_2010 = pd.read_csv('/content/drive/MyDrive/2023/01/Material Produzido - TCC 2023.1/PauloVitor/Dados/tcc_dataset/Censo Demográfico/2010/microdados_pessoa_2010.csv')"
      ],
      "metadata": {
        "id": "5E_FoRReGc1F"
      },
      "execution_count": 12,
      "outputs": []
    },
    {
      "cell_type": "code",
      "source": [
        "populacao_por_municipio_2010 = microdados_pessoa_2010['id_municipio'].value_counts()\n",
        "populacao_por_municipio_2010_df = populacao_por_municipio_2010.to_frame().reset_index()\n",
        "populacao_por_municipio_2010_df.columns = ['id_municipio', 'populacao']"
      ],
      "metadata": {
        "id": "G3J3AlOJZ0Rl"
      },
      "execution_count": 13,
      "outputs": []
    },
    {
      "cell_type": "code",
      "source": [
        "# Crie uma lista vazia para armazenar as informações dos municípios\n",
        "municipios_pes_2010 = []\n",
        "\n",
        "# Agrupar os dados por município\n",
        "grupo_pes_2010 = microdados_pessoa_2010.groupby('id_municipio')\n",
        "\n",
        "# Loop pelos grupos\n",
        "for cod_mun, df in grupo_pes_2010:\n",
        "    populacao_municipio = populacao_por_municipio_2010_df[populacao_por_municipio_2010_df['id_municipio'] == cod_mun]['populacao'].values[0]\n",
        "    taxa_alfabetizacao_5_mais = len(df[(df['v6036'] >= 5) & (df['v0627'] == 1)]) / populacao_municipio\n",
        "    percentual_5_14_nao_alfabetizadas = len(df[((df['v6036'] >= 5) & (df['v6036'] <= 14)) & (df['v0627'] == 2)]) / populacao_municipio\n",
        "    percentual_15_mais_nao_alfabetizadas = len(df[(df['v6036'] >= 15) & (df['v0627'] == 2)]) / populacao_municipio\n",
        "    percentual_domicilio_responsável_nao_alfabetizado = len(df[(df['v0502'] == 1) & (df['v0627'] == 2)]) / populacao_municipio\n",
        "    percentual_10_mais_sem_instrucao_fundamental_incompleto = len(df[(df['v6036'] >= 10) & (df['v6400'] == 1)]) / populacao_municipio\n",
        "    percentual_10_mais_fundamental_completo_medio_incompleto = len(df[(df['v6036'] >= 10) & (df['v6400'] == 2)]) / populacao_municipio\n",
        "    percentual_10_mais_medio_completo_superior_incompleto = len(df[(df['v6036'] >= 10) & (df['v6400'] == 3)]) / populacao_municipio\n",
        "    percentual_10_17_com_filhos = len(df[(df['v6036'] >= 10) & (df['v6036'] <= 17) & (df['v0663'] == 1)]) / populacao_municipio\n",
        "\n",
        "    # Adiciona as informações do município à lista\n",
        "    municipios_pes_2010.append({\n",
        "        'id_municipio': cod_mun,\n",
        "        'Taxa de alfabetização de pessoas de 5 anos ou mais 2010': taxa_alfabetizacao_5_mais,\n",
        "        'Percentual de pessoas de 5 a 14 anos não alfabetizadas 2010': percentual_5_14_nao_alfabetizadas,\n",
        "        'Percentual de pessoas de 15 anos ou mais não alfabetizadas 2010': percentual_15_mais_nao_alfabetizadas,\n",
        "        'Percentual de domicílios em que a pessoa responsável não é alfabetizada 2010': percentual_domicilio_responsável_nao_alfabetizado,\n",
        "        'Percentual de pessoas de 10 anos ou mais segundo o nível de instrução: sem instrução e ensino fundamental incompleto 2010': percentual_10_mais_sem_instrucao_fundamental_incompleto,\n",
        "        'Percentual de pessoas de 10 anos ou mais segundo o nível de instrução: fundamental completo e ensino médio incompleto 2010': percentual_10_mais_fundamental_completo_medio_incompleto,\n",
        "        'Percentual de pessoas de 10 anos ou mais segundo o nível de instrução: ensino médio completo e superior incompleto 2010': percentual_10_mais_medio_completo_superior_incompleto,\n",
        "        'Percentual de crianças e adolescentes, de 10 a 17 anos, com filhos 2010': percentual_10_17_com_filhos,\n",
        "    })\n",
        "\n",
        "# Crie um novo DataFrame a partir da lista de informações dos municípios\n",
        "df_municipios_pes_2010 = pd.DataFrame(municipios_pes_2010)\n",
        "\n",
        "# Crie uma lista vazia para armazenar as informações dos municípios\n",
        "municipios_dom_2010 = []\n",
        "\n",
        "# Agrupar os dados por município\n",
        "grupo_dom_2010 = microdados_domicilio_2010.groupby('id_municipio')\n",
        "\n",
        "# Loop pelos grupos\n",
        "for cod_mun, df in grupo_dom_2010:\n",
        "    populacao_municipio = populacao_por_municipio_2010_df[populacao_por_municipio_2010_df['id_municipio'] == cod_mun]['populacao'].values[0]\n",
        "    percentual_energia_eletrica = len(df[df['v0211'] != 3]) / populacao_municipio\n",
        "    percentual_rede_agua = len(df[df[\"v0209\"] != 3]) / populacao_municipio\n",
        "    percentual_coleta_lixo = len(df[df['v0210'].isin([1, 2])]) / populacao_municipio\n",
        "    percentual_banheiro = len(df[df['v0205'] == 1]) / populacao_municipio\n",
        "    percentual_densidade_por_dormitorio_acima_2_moradores = len(df[df['v6203'] > 2]) / populacao_municipio\n",
        "    percentual_geladeira = len(df[df['v0216'] == 1]) / populacao_municipio\n",
        "    percentual_esgotamento_sanitario = len(df[(df.v0207 == 1) | (df.v0207 == 2)]) / populacao_municipio\n",
        "    valor_medio_mensal_domicilios = df['v6529'].mean()\n",
        "    percentual_domicilios_rendimento_ate_meio_salario_minimo = (len(df[df['v6530'] <= 0.5]) / populacao_municipio) * 100\n",
        "\n",
        "    # Adiciona as informações do município à lista\n",
        "    municipios_dom_2010.append({\n",
        "        'id_municipio': cod_mun,\n",
        "        'Percentual de domicílios com acesso a energia elétrica 2010': percentual_energia_eletrica,\n",
        "        'Percentual de domicílios com acesso a rede de água 2010': percentual_rede_agua,\n",
        "        'Percentual de domicílios com acesso a coleta de lixo 2010': percentual_coleta_lixo,\n",
        "        'Percentual de domicílios com banheiro 2010': percentual_banheiro,\n",
        "        'Percentual de domicílios com densidade de moradores por dormitório acima de dois moradores 2010': percentual_densidade_por_dormitorio_acima_2_moradores,\n",
        "        'Percentual de domicílios com acesso ao bem durável geladeira 2010': percentual_geladeira,\n",
        "        'Percentual de domicílios com acesso aos tipos de esgotamento sanitário: rede geral de esgoto ou pluvial ou fossa séptica 2010': percentual_esgotamento_sanitario,\n",
        "        'Valor do rendimento nominal médio mensal dos domicílios 2010': valor_medio_mensal_domicilios,\n",
        "        'Percentual de domicílios com rendimento de até meio salário mínimo 2010': percentual_domicilios_rendimento_ate_meio_salario_minimo\n",
        "    })\n",
        "\n",
        "# Crie um novo DataFrame a partir da lista de informações dos municípios\n",
        "df_municipios_dom_2010 = pd.DataFrame(municipios_dom_2010)"
      ],
      "metadata": {
        "id": "H-eo9D6WEn7c"
      },
      "execution_count": 14,
      "outputs": []
    },
    {
      "cell_type": "code",
      "source": [
        "df_municipios_2010 = pd.merge(df_municipios_pes_2010, df_municipios_dom_2010, left_on='id_municipio', right_on='id_municipio')"
      ],
      "metadata": {
        "id": "6xkahdyOhiqu"
      },
      "execution_count": 15,
      "outputs": []
    },
    {
      "cell_type": "code",
      "source": [
        "df_municipios_2010 = pd.merge(df_municipios_2010, divisao_territorial_brasileira[['Código Município Completo', 'Nome_Município']], left_on='id_municipio', right_on='Código Município Completo')\n",
        "df_municipios_2010.drop(columns=['id_municipio', 'Código Município Completo'], inplace=True)\n",
        "df_municipios_2010.rename(columns={'Nome_Município': 'nome_municipio'}, inplace=True)\n",
        "# Obter a lista de todas as colunas\n",
        "colunas = df_municipios_2010.columns.tolist()\n",
        "# Reordenar as colunas movendo \"nome_municipio\" para a primeira posição\n",
        "colunas = ['nome_municipio'] + [coluna for coluna in colunas if coluna != 'nome_municipio']\n",
        "# Reatribuir as colunas ao DataFrame\n",
        "df_municipios_2010 = df_municipios_2010[colunas]"
      ],
      "metadata": {
        "id": "w7gY3obSnUF-"
      },
      "execution_count": 16,
      "outputs": []
    },
    {
      "cell_type": "markdown",
      "source": [
        "## Ajustes pela inflação e pela taxa de crescimento populacional"
      ],
      "metadata": {
        "id": "fFM5T0cMkaja"
      }
    },
    {
      "cell_type": "markdown",
      "source": [
        "[Histórico das metas para a inflação](https://www.bcb.gov.br/controleinflacao/historicometas)"
      ],
      "metadata": {
        "id": "SNT8puCjlcwg"
      }
    },
    {
      "cell_type": "code",
      "source": [
        "taxa_crescimento_por_municipio = {}\n",
        "\n",
        "for id_municipio in populacao_por_municipio_2000_df['id_municipio']:\n",
        "    if id_municipio in populacao_por_municipio_2010_df['id_municipio'].values:\n",
        "        populacao_2000 = populacao_por_municipio_2000_df.loc[populacao_por_municipio_2000_df['id_municipio'] == id_municipio, 'populacao'].values[0]\n",
        "        populacao_2010 = populacao_por_municipio_2010_df.loc[populacao_por_municipio_2010_df['id_municipio'] == id_municipio, 'populacao'].values[0]\n",
        "\n",
        "        taxa_crescimento = ((populacao_2010 - populacao_2000) / populacao_2000) * 100\n",
        "\n",
        "        taxa_crescimento_por_municipio[id_municipio] = taxa_crescimento\n",
        "\n",
        "data = [{'id_municipio': key, 'taxa_crescimento': value} for key, value in taxa_crescimento_por_municipio.items()]\n",
        "\n",
        "df_taxa_crescimento = pd.DataFrame(data)\n",
        "\n",
        "df_taxa_crescimento = pd.merge(df_taxa_crescimento, divisao_territorial_brasileira[['Código Município Completo', 'Nome_Município']], left_on='id_municipio', right_on='Código Município Completo')\n",
        "df_taxa_crescimento.drop(columns=['id_municipio', 'Código Município Completo'], inplace=True)\n",
        "df_taxa_crescimento.rename(columns={'Nome_Município': 'nome_municipio'}, inplace=True)\n",
        "colunas = df_taxa_crescimento.columns.tolist()\n",
        "colunas = ['nome_municipio'] + [coluna for coluna in colunas if coluna != 'nome_municipio']\n",
        "df_taxa_crescimento = df_taxa_crescimento[colunas]"
      ],
      "metadata": {
        "id": "uW4e8jFCsQ_2"
      },
      "execution_count": 17,
      "outputs": []
    },
    {
      "cell_type": "code",
      "source": [
        "taxa_inflacao = ((5.91 - 5.97) / 5.97) * 100"
      ],
      "metadata": {
        "id": "J9rzWkBIlZ1Y"
      },
      "execution_count": 18,
      "outputs": []
    },
    {
      "cell_type": "code",
      "source": [
        "df_municipios_2000['Valor do rendimento nominal médio mensal dos domicílios 2000'] *= (1 + taxa_inflacao/100)"
      ],
      "metadata": {
        "id": "1qSjCfSz6kVD"
      },
      "execution_count": 19,
      "outputs": []
    },
    {
      "cell_type": "code",
      "source": [
        "df_municipios_2000 = df_municipios_2000.merge(df_taxa_crescimento, on='nome_municipio')\n",
        "colunas_ajuste = df_municipios_2000.columns.difference(['nome_municipio', 'Valor do rendimento nominal médio mensal dos domicílios 2000'])\n",
        "df_municipios_2000[colunas_ajuste] *= (1 + df_taxa_crescimento['taxa_crescimento'].values[:, None]/100)\n",
        "df_municipios_2000 = df_municipios_2000.drop('taxa_crescimento', axis=1)"
      ],
      "metadata": {
        "id": "KIOxVacU68Zf"
      },
      "execution_count": 20,
      "outputs": []
    },
    {
      "cell_type": "markdown",
      "source": [
        "## Índice 2000"
      ],
      "metadata": {
        "id": "mL5P_k328e_3"
      }
    },
    {
      "cell_type": "code",
      "source": [
        "# Colunas relação positiva\n",
        "positivas_2000 = [\n",
        "    'Percentual de pessoas de 5 a 14 anos não alfabetizadas 2000',\n",
        "    'Percentual de pessoas de 15 anos ou mais não alfabetizadas 2000',\n",
        "    'Percentual de domicílios em que a pessoa responsável não é alfabetizada 2000',\n",
        "    'Percentual de pessoas de 10 anos ou mais segundo o nível de instrução: sem instrução e ensino fundamental incompleto 2000',\n",
        "    'Percentual de pessoas de 10 anos ou mais segundo o nível de instrução: fundamental completo e ensino médio incompleto 2000',\n",
        "    'Percentual de pessoas de 10 anos ou mais segundo o nível de instrução: ensino médio completo e superior incompleto 2000',\n",
        "    'Percentual de crianças e adolescentes, de 10 a 17 anos, com filhos 2000',\n",
        "    'Percentual de domicílios com densidade de moradores por dormitório acima de dois moradores 2000',\n",
        "    'Percentual de domicílios com rendimento de até meio salário mínimo 2000'\n",
        "]\n",
        "\n",
        "# Colunas relação negativa\n",
        "negativas_2000 = [\n",
        "    'Taxa de alfabetização de pessoas de 5 anos ou mais 2000',\n",
        "    'Percentual de domicílios com acesso a energia elétrica 2000',\n",
        "    'Percentual de domicílios com acesso a rede de água 2000',\n",
        "    'Percentual de domicílios com acesso a coleta de lixo 2000',\n",
        "    'Percentual de domicílios com banheiro 2000',\n",
        "    'Percentual de domicílios com acesso ao bem durável geladeira 2000',\n",
        "    'Percentual de domicílios com acesso aos tipos de esgotamento sanitário: rede geral de esgoto ou pluvial ou fossa séptica 2000',\n",
        "    'Valor do rendimento nominal médio mensal dos domicílios 2000',\n",
        "]"
      ],
      "metadata": {
        "id": "pvR3gSgGu8kx"
      },
      "execution_count": 21,
      "outputs": []
    },
    {
      "cell_type": "code",
      "source": [
        "# Dimensões\n",
        "renda_2000 = df_municipios_2000[[\n",
        "    'nome_municipio',\n",
        "    'Valor do rendimento nominal médio mensal dos domicílios 2000',\n",
        "    'Percentual de domicílios com rendimento de até meio salário mínimo 2000'\n",
        "    ]]\n",
        "\n",
        "saude_2000 = df_municipios_2000[[\n",
        "    'nome_municipio',\n",
        "    'Percentual de crianças e adolescentes, de 10 a 17 anos, com filhos 2000',\n",
        "    'Percentual de domicílios com acesso aos tipos de esgotamento sanitário: rede geral de esgoto ou pluvial ou fossa séptica 2000'\n",
        "    ]]\n",
        "\n",
        "condicoes_habitacionais_2000 = df_municipios_2000[[\n",
        "    'nome_municipio',\n",
        "    'Percentual de domicílios com acesso a energia elétrica 2000',\n",
        "    'Percentual de domicílios com acesso a rede de água 2000',\n",
        "    'Percentual de domicílios com acesso a coleta de lixo 2000',\n",
        "    'Percentual de domicílios com banheiro 2000',\n",
        "    'Percentual de domicílios com densidade de moradores por dormitório acima de dois moradores 2000',\n",
        "    'Percentual de domicílios com acesso ao bem durável geladeira 2000',\n",
        "    ]]\n",
        "\n",
        "educacao_2000 = df_municipios_2000[[\n",
        "    'nome_municipio',\n",
        "    'Taxa de alfabetização de pessoas de 5 anos ou mais 2000',\n",
        "    'Percentual de pessoas de 5 a 14 anos não alfabetizadas 2000',\n",
        "    'Percentual de pessoas de 15 anos ou mais não alfabetizadas 2000',\n",
        "    'Percentual de domicílios em que a pessoa responsável não é alfabetizada 2000',\n",
        "    'Percentual de pessoas de 10 anos ou mais segundo o nível de instrução: sem instrução e ensino fundamental incompleto 2000',\n",
        "    'Percentual de pessoas de 10 anos ou mais segundo o nível de instrução: fundamental completo e ensino médio incompleto 2000',\n",
        "    'Percentual de pessoas de 10 anos ou mais segundo o nível de instrução: ensino médio completo e superior incompleto 2000'\n",
        "    ]]"
      ],
      "metadata": {
        "id": "zSZbYVPJu8kx"
      },
      "execution_count": 22,
      "outputs": []
    },
    {
      "cell_type": "code",
      "source": [
        "valores_minimos_maximos_2000 = extrair_valores_minimos_maximos(df_municipios_2000)\n",
        "x_ij = calcular_xij(df_municipios_2000, valores_minimos_maximos_2000, positivas_2000, negativas_2000)"
      ],
      "metadata": {
        "id": "ukBxmgLzu8ky"
      },
      "execution_count": 23,
      "outputs": []
    },
    {
      "cell_type": "code",
      "source": [
        "pesos_2000 = {}\n",
        "for j, coluna in enumerate(x_ij.columns[1:], start=1):\n",
        "    peso = calcular_peso(x_ij, j)\n",
        "    pesos_2000[coluna] = peso\n",
        "\n",
        "pesos_2000_df = pd.DataFrame.from_dict(pesos_2000, orient='index', columns=['peso'])\n",
        "pesos_2000_df = pesos_2000_df.reset_index()\n",
        "pesos_2000_df.columns = ['indicador', 'peso']"
      ],
      "metadata": {
        "id": "6Rdw_IMsT3JD"
      },
      "execution_count": 24,
      "outputs": []
    },
    {
      "cell_type": "code",
      "source": [
        "indice_fuzzy_renda_2000 = calcular_indice_fuzzy(renda_2000, positivas_2000, negativas_2000)\n",
        "indice_fuzzy_saude_2000 = calcular_indice_fuzzy(saude_2000, positivas_2000, negativas_2000)\n",
        "indice_fuzzy_condicoes_habitacionais_2000 = calcular_indice_fuzzy(condicoes_habitacionais_2000, positivas_2000, negativas_2000)\n",
        "indice_fuzzy_educacao_2000 = calcular_indice_fuzzy(educacao_2000, positivas_2000, negativas_2000)\n",
        "indice_fuzzy_2000 = calcular_indice_fuzzy(df_municipios_2000, positivas_2000, negativas_2000)"
      ],
      "metadata": {
        "id": "nyKrnZOFu8k0"
      },
      "execution_count": 25,
      "outputs": []
    },
    {
      "cell_type": "code",
      "source": [
        "indice_fuzzy_renda_2000.rename(columns={'indice_fuzzy': 'renda_2000'}, inplace=True)\n",
        "indice_fuzzy_saude_2000.rename(columns={'indice_fuzzy': 'saude_2000'}, inplace=True)\n",
        "indice_fuzzy_condicoes_habitacionais_2000.rename(columns={'indice_fuzzy': 'condicoes_habitacionais_2000'}, inplace=True)\n",
        "indice_fuzzy_educacao_2000.rename(columns={'indice_fuzzy': 'educacao_2000'}, inplace=True)\n",
        "indice_fuzzy_2000.rename(columns={'indice_fuzzy': 'indice_2000'}, inplace=True)"
      ],
      "metadata": {
        "id": "ZnqvEToSeKYi"
      },
      "execution_count": 26,
      "outputs": []
    },
    {
      "cell_type": "code",
      "source": [
        "indice_2000 = pd.merge(indice_fuzzy_renda_2000, indice_fuzzy_saude_2000, on='nome_municipio')\n",
        "indice_2000 = pd.merge(indice_2000, indice_fuzzy_condicoes_habitacionais_2000, on='nome_municipio')\n",
        "indice_2000 = pd.merge(indice_2000, indice_fuzzy_educacao_2000, on='nome_municipio')\n",
        "indice_2000 = pd.merge(indice_2000, indice_fuzzy_2000, on='nome_municipio')"
      ],
      "metadata": {
        "id": "UPU2n4KNe0h1"
      },
      "execution_count": 27,
      "outputs": []
    },
    {
      "cell_type": "code",
      "source": [
        "import xlsxwriter\n",
        "\n",
        "writer = pd.ExcelWriter('indice_2000.xlsx', engine='xlsxwriter')\n",
        "\n",
        "indice_2000.to_excel(writer, index=False, header=True)\n",
        "\n",
        "writer.save()"
      ],
      "metadata": {
        "colab": {
          "base_uri": "https://localhost:8080/"
        },
        "id": "s6CM62HFgo6p",
        "outputId": "a25db2c7-8a01-4249-be82-3b8bd103d959"
      },
      "execution_count": 28,
      "outputs": [
        {
          "output_type": "stream",
          "name": "stderr",
          "text": [
            "<ipython-input-28-f7b6a462928a>:7: FutureWarning: save is not part of the public API, usage can give unexpected results and will be removed in a future version\n",
            "  writer.save()\n"
          ]
        }
      ]
    },
    {
      "cell_type": "code",
      "source": [
        "import xlsxwriter\n",
        "\n",
        "writer = pd.ExcelWriter('indice_fuzzy_2000.xlsx', engine='xlsxwriter')\n",
        "\n",
        "indice_fuzzy_renda_2000.to_excel(writer, sheet_name='renda_2000', index=False, header=True)\n",
        "indice_fuzzy_saude_2000.to_excel(writer, sheet_name='saude_2000', index=False, header=True)\n",
        "indice_fuzzy_condicoes_habitacionais_2000.to_excel(writer, sheet_name='condicoes_habitacionais_2000', index=False, header=True)\n",
        "indice_fuzzy_educacao_2000.to_excel(writer, sheet_name='educacao_2000', index=False, header=True)\n",
        "indice_fuzzy_2000.to_excel(writer, sheet_name='indice_fuzzy_2000', index=False, header=True)\n",
        "pesos_2000_df.to_excel(writer, sheet_name='pesos_2000', index=False, header=True)\n",
        "\n",
        "writer.save()"
      ],
      "metadata": {
        "colab": {
          "base_uri": "https://localhost:8080/"
        },
        "id": "n3Q9t0wtw08G",
        "outputId": "a4862028-fdd3-4878-e2bd-13e99b7466da"
      },
      "execution_count": 29,
      "outputs": [
        {
          "output_type": "stream",
          "name": "stderr",
          "text": [
            "<ipython-input-29-ff849d53c34a>:12: FutureWarning: save is not part of the public API, usage can give unexpected results and will be removed in a future version\n",
            "  writer.save()\n"
          ]
        }
      ]
    },
    {
      "cell_type": "code",
      "source": [
        "#indice_2000"
      ],
      "metadata": {
        "id": "PXDTh9JMfFy6"
      },
      "execution_count": 30,
      "outputs": []
    },
    {
      "cell_type": "code",
      "source": [
        "#indice_fuzzy_renda_2000"
      ],
      "metadata": {
        "id": "iCDQQnEnu8k1"
      },
      "execution_count": 31,
      "outputs": []
    },
    {
      "cell_type": "code",
      "source": [
        "#indice_fuzzy_saude_2000"
      ],
      "metadata": {
        "id": "rIazdLLGu8k1"
      },
      "execution_count": 32,
      "outputs": []
    },
    {
      "cell_type": "code",
      "source": [
        "#indice_fuzzy_condicoes_habitacionais_2000"
      ],
      "metadata": {
        "id": "hDAZ1R-_u8k1"
      },
      "execution_count": 33,
      "outputs": []
    },
    {
      "cell_type": "code",
      "source": [
        "#indice_fuzzy_educacao_2000"
      ],
      "metadata": {
        "id": "Hi6CHcC_u8k1"
      },
      "execution_count": 34,
      "outputs": []
    },
    {
      "cell_type": "code",
      "source": [
        "#indice_fuzzy_2000"
      ],
      "metadata": {
        "id": "aucx06xcu8k1"
      },
      "execution_count": 35,
      "outputs": []
    },
    {
      "cell_type": "markdown",
      "source": [
        "## Índice 2010"
      ],
      "metadata": {
        "id": "nABzsGXY8ibM"
      }
    },
    {
      "cell_type": "code",
      "source": [
        "# Colunas relação positiva\n",
        "positivas_2010 = [\n",
        "    'Percentual de pessoas de 5 a 14 anos não alfabetizadas 2010',\n",
        "    'Percentual de pessoas de 15 anos ou mais não alfabetizadas 2010',\n",
        "    'Percentual de domicílios em que a pessoa responsável não é alfabetizada 2010',\n",
        "    'Percentual de pessoas de 10 anos ou mais segundo o nível de instrução: sem instrução e ensino fundamental incompleto 2010',\n",
        "    'Percentual de pessoas de 10 anos ou mais segundo o nível de instrução: fundamental completo e ensino médio incompleto 2010',\n",
        "    'Percentual de pessoas de 10 anos ou mais segundo o nível de instrução: ensino médio completo e superior incompleto 2010',\n",
        "    'Percentual de crianças e adolescentes, de 10 a 17 anos, com filhos 2010',\n",
        "    'Percentual de domicílios com densidade de moradores por dormitório acima de dois moradores 2010',\n",
        "    'Percentual de domicílios com rendimento de até meio salário mínimo 2010'\n",
        "    'Mortalidade infantil (até 1 ano de idade) 2010'\n",
        "]\n",
        "\n",
        "# Colunas relação negativa\n",
        "negativas_2010 = [\n",
        "    'Taxa de alfabetização de pessoas de 5 anos ou mais 2010',\n",
        "    'Percentual de domicílios com acesso a energia elétrica 2010',\n",
        "    'Percentual de domicílios com acesso a rede de água 2010',\n",
        "    'Percentual de domicílios com acesso a coleta de lixo 2010',\n",
        "    'Percentual de domicílios com banheiro 2010',\n",
        "    'Percentual de domicílios com acesso ao bem durável geladeira 2010',\n",
        "    'Percentual de domicílios com acesso aos tipos de esgotamento sanitário: rede geral de esgoto ou pluvial ou fossa séptica 2010',\n",
        "    'Valor do rendimento nominal médio mensal dos domicílios 2010',\n",
        "]"
      ],
      "metadata": {
        "id": "QuwLb0gU6oXw"
      },
      "execution_count": 36,
      "outputs": []
    },
    {
      "cell_type": "code",
      "source": [
        "# Dimensões\n",
        "renda_2010 = df_municipios_2010[[\n",
        "    'nome_municipio',\n",
        "    'Valor do rendimento nominal médio mensal dos domicílios 2010',\n",
        "    'Percentual de domicílios com rendimento de até meio salário mínimo 2010'\n",
        "    ]]\n",
        "\n",
        "saude_2010 = df_municipios_2010[[\n",
        "    'nome_municipio',\n",
        "    'Percentual de crianças e adolescentes, de 10 a 17 anos, com filhos 2010',\n",
        "    'Percentual de domicílios com acesso aos tipos de esgotamento sanitário: rede geral de esgoto ou pluvial ou fossa séptica 2010'\n",
        "    ]]\n",
        "\n",
        "condicoes_habitacionais_2010 = df_municipios_2010[[\n",
        "    'nome_municipio',\n",
        "    'Percentual de domicílios com acesso a energia elétrica 2010',\n",
        "    'Percentual de domicílios com acesso a rede de água 2010',\n",
        "    'Percentual de domicílios com acesso a coleta de lixo 2010',\n",
        "    'Percentual de domicílios com banheiro 2010',\n",
        "    'Percentual de domicílios com densidade de moradores por dormitório acima de dois moradores 2010',\n",
        "    'Percentual de domicílios com acesso ao bem durável geladeira 2010',\n",
        "    ]]\n",
        "\n",
        "educacao_2010 = df_municipios_2010[[\n",
        "    'nome_municipio',\n",
        "    'Taxa de alfabetização de pessoas de 5 anos ou mais 2010',\n",
        "    'Percentual de pessoas de 5 a 14 anos não alfabetizadas 2010',\n",
        "    'Percentual de pessoas de 15 anos ou mais não alfabetizadas 2010',\n",
        "    'Percentual de domicílios em que a pessoa responsável não é alfabetizada 2010',\n",
        "    'Percentual de pessoas de 10 anos ou mais segundo o nível de instrução: sem instrução e ensino fundamental incompleto 2010',\n",
        "    'Percentual de pessoas de 10 anos ou mais segundo o nível de instrução: fundamental completo e ensino médio incompleto 2010',\n",
        "    'Percentual de pessoas de 10 anos ou mais segundo o nível de instrução: ensino médio completo e superior incompleto 2010'\n",
        "    ]]"
      ],
      "metadata": {
        "id": "QxgJrs9GIfwk"
      },
      "execution_count": 37,
      "outputs": []
    },
    {
      "cell_type": "code",
      "source": [
        "valores_minimos_maximos_2010 = extrair_valores_minimos_maximos(df_municipios_2010)\n",
        "x_ij = calcular_xij(df_municipios_2010, valores_minimos_maximos_2010, positivas_2010, negativas_2010)"
      ],
      "metadata": {
        "id": "FMHMvjIU5ake"
      },
      "execution_count": 38,
      "outputs": []
    },
    {
      "cell_type": "code",
      "source": [
        "pesos_2010 = {}\n",
        "for j, coluna in enumerate(x_ij.columns[1:], start=1):\n",
        "    peso = calcular_peso(x_ij, j)\n",
        "    pesos_2010[coluna] = peso\n",
        "\n",
        "pesos_2010_df = pd.DataFrame.from_dict(pesos_2010, orient='index', columns=['peso'])\n",
        "pesos_2010_df = pesos_2010_df.reset_index()\n",
        "pesos_2010_df.columns = ['indicador', 'peso']"
      ],
      "metadata": {
        "id": "qWUeg-8987C-"
      },
      "execution_count": 39,
      "outputs": []
    },
    {
      "cell_type": "code",
      "source": [
        "indice_fuzzy_renda_2010 = calcular_indice_fuzzy(renda_2010, positivas_2010, negativas_2010)\n",
        "indice_fuzzy_saude_2010 = calcular_indice_fuzzy(saude_2010, positivas_2010, negativas_2010)\n",
        "indice_fuzzy_condicoes_habitacionais_2010 = calcular_indice_fuzzy(condicoes_habitacionais_2010, positivas_2010, negativas_2010)\n",
        "indice_fuzzy_educacao_2010 = calcular_indice_fuzzy(educacao_2010, positivas_2010, negativas_2010)\n",
        "indice_fuzzy_2010 = calcular_indice_fuzzy(df_municipios_2010, positivas_2010, negativas_2010)"
      ],
      "metadata": {
        "id": "QOsNSmneKNjK"
      },
      "execution_count": 40,
      "outputs": []
    },
    {
      "cell_type": "code",
      "source": [
        "indice_fuzzy_renda_2010.rename(columns={'indice_fuzzy': 'renda_2010'}, inplace=True)\n",
        "indice_fuzzy_saude_2010.rename(columns={'indice_fuzzy': 'saude_2010'}, inplace=True)\n",
        "indice_fuzzy_condicoes_habitacionais_2010.rename(columns={'indice_fuzzy': 'condicoes_habitacionais_2010'}, inplace=True)\n",
        "indice_fuzzy_educacao_2010.rename(columns={'indice_fuzzy': 'educacao_2010'}, inplace=True)\n",
        "indice_fuzzy_2010.rename(columns={'indice_fuzzy': 'indice_2010'}, inplace=True)"
      ],
      "metadata": {
        "id": "GTFsmlxbg-9b"
      },
      "execution_count": 41,
      "outputs": []
    },
    {
      "cell_type": "code",
      "source": [
        "indice_2010 = pd.merge(indice_fuzzy_renda_2010, indice_fuzzy_saude_2010, on='nome_municipio')\n",
        "indice_2010 = pd.merge(indice_2010, indice_fuzzy_condicoes_habitacionais_2010, on='nome_municipio')\n",
        "indice_2010 = pd.merge(indice_2010, indice_fuzzy_educacao_2010, on='nome_municipio')\n",
        "indice_2010 = pd.merge(indice_2010, indice_fuzzy_2010, on='nome_municipio')"
      ],
      "metadata": {
        "id": "3gWdnmZKg-9c"
      },
      "execution_count": 42,
      "outputs": []
    },
    {
      "cell_type": "code",
      "source": [
        "import xlsxwriter\n",
        "\n",
        "writer = pd.ExcelWriter('indice_2010.xlsx', engine='xlsxwriter')\n",
        "\n",
        "indice_2010.to_excel(writer, index=False, header=True)\n",
        "\n",
        "writer.save()"
      ],
      "metadata": {
        "colab": {
          "base_uri": "https://localhost:8080/"
        },
        "id": "cM0PjnGEg-9c",
        "outputId": "5d1639b7-cb64-45c4-a6d5-a0e7383c465c"
      },
      "execution_count": 43,
      "outputs": [
        {
          "output_type": "stream",
          "name": "stderr",
          "text": [
            "<ipython-input-43-f040075ad345>:7: FutureWarning: save is not part of the public API, usage can give unexpected results and will be removed in a future version\n",
            "  writer.save()\n"
          ]
        }
      ]
    },
    {
      "cell_type": "code",
      "source": [
        "# Crie um objeto ExcelWriter e especifique o arquivo de saída\n",
        "writer = pd.ExcelWriter('indice_fuzzy_2010.xlsx', engine='xlsxwriter')\n",
        "\n",
        "# Salve cada DataFrame em uma planilha diferente\n",
        "indice_fuzzy_renda_2010.to_excel(writer, sheet_name='renda_2010', index=False, header=True)\n",
        "indice_fuzzy_saude_2010.to_excel(writer, sheet_name='saude_2010', index=False, header=True)\n",
        "indice_fuzzy_condicoes_habitacionais_2010.to_excel(writer, sheet_name='condicoes_habitacionais_2010', index=False, header=True)\n",
        "indice_fuzzy_educacao_2010.to_excel(writer, sheet_name='educacao_2010', index=False, header=True)\n",
        "indice_fuzzy_2010.to_excel(writer, sheet_name='indice_fuzzy_2010', index=False, header=True)\n",
        "pesos_2010_df.to_excel(writer, sheet_name='pesos_2010', index=False, header=True)\n",
        "\n",
        "# Salve e feche o arquivo\n",
        "writer.save()"
      ],
      "metadata": {
        "colab": {
          "base_uri": "https://localhost:8080/"
        },
        "id": "8hCpq1zTwi3g",
        "outputId": "9bc32d6b-eba8-4c1f-9e9a-10c1b2dbd3b3"
      },
      "execution_count": 44,
      "outputs": [
        {
          "output_type": "stream",
          "name": "stderr",
          "text": [
            "<ipython-input-44-12c6b2bf5d17>:13: FutureWarning: save is not part of the public API, usage can give unexpected results and will be removed in a future version\n",
            "  writer.save()\n"
          ]
        }
      ]
    },
    {
      "cell_type": "code",
      "source": [
        "#indice_fuzzy_renda_2010"
      ],
      "metadata": {
        "id": "fCX3_YUGLBtp"
      },
      "execution_count": 45,
      "outputs": []
    },
    {
      "cell_type": "code",
      "source": [
        "#indice_fuzzy_saude_2010"
      ],
      "metadata": {
        "id": "otREQI5RLLVn"
      },
      "execution_count": 46,
      "outputs": []
    },
    {
      "cell_type": "code",
      "source": [
        "#indice_fuzzy_condicoes_habitacionais_2010"
      ],
      "metadata": {
        "id": "b_O0-9piLM2h"
      },
      "execution_count": 47,
      "outputs": []
    },
    {
      "cell_type": "code",
      "source": [
        "#indice_fuzzy_educacao_2010"
      ],
      "metadata": {
        "id": "cIEqOtOfLO8n"
      },
      "execution_count": 48,
      "outputs": []
    },
    {
      "cell_type": "code",
      "source": [
        "#indice_fuzzy_2010"
      ],
      "metadata": {
        "id": "nh_KPeENAlda"
      },
      "execution_count": 49,
      "outputs": []
    },
    {
      "cell_type": "markdown",
      "source": [
        "# Índice final"
      ],
      "metadata": {
        "id": "RptqWtj3igZt"
      }
    },
    {
      "cell_type": "code",
      "source": [
        "indice = pd.merge(indice_2000, indice_2010, on='nome_municipio')"
      ],
      "metadata": {
        "id": "226Ui0JoijUz"
      },
      "execution_count": 50,
      "outputs": []
    },
    {
      "cell_type": "code",
      "source": [
        "import xlsxwriter\n",
        "\n",
        "writer = pd.ExcelWriter('indice.xlsx', engine='xlsxwriter')\n",
        "\n",
        "indice.to_excel(writer, index=False, header=True)\n",
        "\n",
        "writer.save()"
      ],
      "metadata": {
        "colab": {
          "base_uri": "https://localhost:8080/"
        },
        "outputId": "73ce8361-2b2f-47e4-eead-469521e6abb7",
        "id": "Z7SLuipmijUz"
      },
      "execution_count": 51,
      "outputs": [
        {
          "output_type": "stream",
          "name": "stderr",
          "text": [
            "<ipython-input-51-165a3a66abc9>:7: FutureWarning: save is not part of the public API, usage can give unexpected results and will be removed in a future version\n",
            "  writer.save()\n"
          ]
        }
      ]
    }
  ]
}